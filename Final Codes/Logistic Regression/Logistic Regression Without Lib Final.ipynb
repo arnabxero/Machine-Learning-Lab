{
 "cells": [
  {
   "cell_type": "code",
   "execution_count": 19,
   "id": "12ba368b",
   "metadata": {},
   "outputs": [
    {
     "name": "stdout",
     "output_type": "stream",
     "text": [
      "[0.9703752  0.99973657 0.99940524 0.99979921 0.9703752  0.92680343\n",
      " 0.99897664]\n"
     ]
    }
   ],
   "source": [
    "import pandas as pd\n",
    "import numpy as np\n",
    "import matplotlib.pyplot as plt\n",
    "import random\n",
    "df = pd.DataFrame({\"age\": [22,25,47,52, 46,56,55,60,62,61,18,28,27,29,49,55,25,58,19,18,21,26,40,45,50,54,23], \n",
    "                   \"bought_insurance\":[0,0,1,0,1,1,0,1,1,1,0,0,0,0,1,1,1,1,0,0,0,0,1,1,1,1,0]})\n",
    "\n",
    "\n",
    "test = df.sample(7)\n",
    "train = df[~df.isin(test)]\n",
    "train.dropna(inplace = True)\n",
    "\n",
    "def sigmoid(x):\n",
    "    return 1/(1+np.exp(-x))\n",
    "\n",
    "def square_loss(y_pred, target):\n",
    "    return np.mean(pow((y_pred - target),2))\n",
    "\n",
    "X_tr, y_tr = train.age, train['bought_insurance']\n",
    "X_te, y_te = test.age, test['bought_insurance']\n",
    "\n",
    "lr = 0.01 #learning late\n",
    "W = np.random.uniform(0,1) # colom 1\n",
    "b = 0.1\n",
    "for i in range(10000):\n",
    "    z = np.dot(X_tr, W) + b\n",
    "y_pred = sigmoid(z)\n",
    "l = square_loss(y_pred, y_tr)\n",
    "gradient_W = np.dot((y_pred-y_tr).T, X_tr)/X_tr.shape[0]\n",
    "gradient_b = np.mean(y_pred-y_tr)\n",
    "W = W - lr * gradient_W\n",
    "b = b - lr* gradient_b\n",
    "\n",
    "for i in range(len(X_te)):\n",
    "    r = sigmoid(np.dot(X_te, W) + b)\n",
    "    \n",
    "print(r)"
   ]
  },
  {
   "cell_type": "code",
   "execution_count": null,
   "id": "7fb519d3",
   "metadata": {},
   "outputs": [],
   "source": []
  },
  {
   "cell_type": "code",
   "execution_count": null,
   "id": "b222dc65",
   "metadata": {},
   "outputs": [],
   "source": []
  }
 ],
 "metadata": {
  "kernelspec": {
   "display_name": "Python 3",
   "language": "python",
   "name": "python3"
  },
  "language_info": {
   "codemirror_mode": {
    "name": "ipython",
    "version": 3
   },
   "file_extension": ".py",
   "mimetype": "text/x-python",
   "name": "python",
   "nbconvert_exporter": "python",
   "pygments_lexer": "ipython3",
   "version": "3.8.8"
  }
 },
 "nbformat": 4,
 "nbformat_minor": 5
}
