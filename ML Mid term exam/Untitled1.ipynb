{
 "cells": [
  {
   "cell_type": "code",
   "execution_count": 2,
   "id": "ec39aa9e",
   "metadata": {},
   "outputs": [
    {
     "name": "stdout",
     "output_type": "stream",
     "text": [
      "(506, 14)\n",
      "      CRIM    ZN  INDUS  CHAS    NOX     RM   AGE     DIS  RAD    TAX  \\\n",
      "0  0.00632  18.0   2.31   0.0  0.538  6.575  65.2  4.0900  1.0  296.0   \n",
      "1  0.02731   0.0   7.07   0.0  0.469  6.421  78.9  4.9671  2.0  242.0   \n",
      "2  0.02729   0.0   7.07   0.0  0.469  7.185  61.1  4.9671  2.0  242.0   \n",
      "3  0.03237   0.0   2.18   0.0  0.458  6.998  45.8  6.0622  3.0  222.0   \n",
      "4  0.06905   0.0   2.18   0.0  0.458  7.147  54.2  6.0622  3.0  222.0   \n",
      "\n",
      "   PTRATIO       B  LSTAT  target  \n",
      "0     15.3  396.90   4.98    24.0  \n",
      "1     17.8  396.90   9.14    21.6  \n",
      "2     17.8  392.83   4.03    34.7  \n",
      "3     18.7  394.63   2.94    33.4  \n",
      "4     18.7  396.90   5.33    36.2  \n"
     ]
    }
   ],
   "source": [
    "from sklearn import datasets\n",
    "import pandas as pd\n",
    "\n",
    "boston = datasets.load_boston()\n",
    "bostonDF = pd.DataFrame(boston.data, columns = boston.feature_names)\n",
    "bostonDF['target'] = boston.target\n",
    "print(bostonDF.shape)\n",
    "print(bostonDF.head(5))"
   ]
  },
  {
   "cell_type": "code",
   "execution_count": 35,
   "id": "e01754f1",
   "metadata": {
    "scrolled": false
   },
   "outputs": [
    {
     "name": "stdout",
     "output_type": "stream",
     "text": [
      "(404, 13) (404,)\n",
      "(102, 13) (404,)\n",
      "         CRIM    ZN  INDUS  CHAS    NOX     RM   AGE     DIS   RAD    TAX  \\\n",
      "42    0.14150   0.0   6.91   0.0  0.448  6.169   6.6  5.7209   3.0  233.0   \n",
      "58    0.15445  25.0   5.13   0.0  0.453  6.145  29.2  7.8148   8.0  284.0   \n",
      "385  16.81180   0.0  18.10   0.0  0.700  5.277  98.1  1.4261  24.0  666.0   \n",
      "78    0.05646   0.0  12.83   0.0  0.437  6.232  53.7  5.0141   5.0  398.0   \n",
      "424   8.79212   0.0  18.10   0.0  0.584  5.565  70.6  2.0635  24.0  666.0   \n",
      "..        ...   ...    ...   ...    ...    ...   ...     ...   ...    ...   \n",
      "255   0.03548  80.0   3.64   0.0  0.392  5.876  19.1  9.2203   1.0  315.0   \n",
      "72    0.09164   0.0  10.81   0.0  0.413  6.065   7.8  5.2873   4.0  305.0   \n",
      "396   5.87205   0.0  18.10   0.0  0.693  6.405  96.0  1.6768  24.0  666.0   \n",
      "235   0.33045   0.0   6.20   0.0  0.507  6.086  61.5  3.6519   8.0  307.0   \n",
      "37    0.08014   0.0   5.96   0.0  0.499  5.850  41.5  3.9342   5.0  279.0   \n",
      "\n",
      "     PTRATIO       B  LSTAT  \n",
      "42      17.9  383.37   5.81  \n",
      "58      19.7  390.68   6.86  \n",
      "385     20.2  396.90  30.81  \n",
      "78      18.7  386.40  12.34  \n",
      "424     20.2    3.65  17.16  \n",
      "..       ...     ...    ...  \n",
      "255     16.4  395.18   9.25  \n",
      "72      19.2  390.91   5.52  \n",
      "396     20.2  396.90  19.37  \n",
      "235     17.4  376.75  10.88  \n",
      "37      19.2  396.90   8.77  \n",
      "\n",
      "[404 rows x 13 columns]\n"
     ]
    }
   ],
   "source": [
    "from sklearn.model_selection import train_test_split\n",
    "\n",
    "X_train, X_test, Y_train, Y_test = train_test_split(bostonDF.drop('target', axis=1), bostonDF['target'],\n",
    "                                                   test_size = 0.2, random_state = 1)\n",
    "\n",
    "print(X_train.shape, Y_train.shape)\n",
    "print(X_test.shape, Y_train.shape)"
   ]
  },
  {
   "cell_type": "markdown",
   "id": "8c92f0c4",
   "metadata": {},
   "source": [
    "# Linear Regression Algorithm\n",
    "# Validation Set Approach"
   ]
  },
  {
   "cell_type": "code",
   "execution_count": 5,
   "id": "e0632219",
   "metadata": {
    "scrolled": true
   },
   "outputs": [
    {
     "name": "stdout",
     "output_type": "stream",
     "text": [
      "w0 =  42.93352585337733\n",
      "w1 ... w13 =  [-1.12386867e-01  5.80587074e-02  1.83593559e-02  2.12997760e+00\n",
      " -1.95811012e+01  3.09546166e+00  4.45265228e-03 -1.50047624e+00\n",
      "  3.05358969e-01 -1.11230879e-02 -9.89007562e-01  7.32130017e-03\n",
      " -5.44644997e-01]\n",
      "\n",
      "\n",
      "RMSE score in Training set: 4.675766751547773\n",
      "R^2 score in Training Set: 0.7293585058196337\n",
      "\n",
      "RMSE score in Test Set: 4.835373458200553\n",
      "R^2 score in Test Set: 0.7634174432138457\n",
      "\n"
     ]
    }
   ],
   "source": [
    "from sklearn.linear_model import LinearRegression\n",
    "from sklearn.metrics import mean_squared_error\n",
    "from sklearn.metrics import r2_score\n",
    "import numpy as np\n",
    "\n",
    "\n",
    "# 1. Build The Model\n",
    "# 2. model.fit(features, target)\n",
    "# 3. model.predict(testSetFeature)\n",
    "\n",
    "\n",
    "linRegModel = LinearRegression()\n",
    "saveModel = linRegModel.fit(X_train, Y_train)\n",
    "\n",
    "print('w0 = ', linRegModel.intercept_)\n",
    "print('w1 ... w13 = ', saveModel.coef_)\n",
    "print()\n",
    "print()\n",
    "\n",
    "Y_train_predicted = linRegModel.predict(X_train)\n",
    "rmse = np.sqrt( mean_squared_error(Y_train, Y_train_predicted) )\n",
    "print('RMSE score in Training set: {}'.format(rmse))\n",
    "r2 = r2_score(Y_train, Y_train_predicted)\n",
    "print( 'R^2 score in Training Set: {}'.format(r2) )\n",
    "print()\n",
    "\n",
    "Y_test_predicted = linRegModel.predict(X_test)\n",
    "rmse = np.sqrt( mean_squared_error(Y_test, Y_test_predicted) )\n",
    "print('RMSE score in Test Set: {}'.format(rmse))\n",
    "r2 = r2_score(Y_test, Y_test_predicted)\n",
    "print('R^2 score in Test Set: {}'.format(r2))\n",
    "print()\n",
    "\n"
   ]
  },
  {
   "cell_type": "markdown",
   "id": "48f6230f",
   "metadata": {},
   "source": [
    "# Cross Validation Approach "
   ]
  },
  {
   "cell_type": "code",
   "execution_count": 12,
   "id": "2fd48747",
   "metadata": {},
   "outputs": [
    {
     "name": "stdout",
     "output_type": "stream",
     "text": [
      "[-20.83773151 -15.41295672 -29.78012867 -32.08728107]\n",
      "Cross Validation Score with MSE in Training Set: -24.529524493812357\n",
      "Cross Validation Score with R^2 in Training Set: 0.6989588876671124\n",
      "\n",
      "Cross Validation Score with MSE in Test Set: -28.662374571168268\n",
      "Cross Validation Score with R^2 in Test Set: 0.6766217788953366\n",
      "\n"
     ]
    }
   ],
   "source": [
    "from sklearn.model_selection import KFold\n",
    "from sklearn.model_selection import cross_val_score\n",
    "\n",
    "folds = KFold(n_splits = 4, shuffle = True, random_state = 1)\n",
    "\n",
    "#cross_val_score(model, X, Y, cv=folds, scoring='neg_mean_absolute_error')\n",
    "\n",
    "crossValScore = cross_val_score(linRegModel, X_train, Y_train, cv = folds, scoring = 'neg_mean_squared_error')\n",
    "print(crossValScore) #score at each folds\n",
    "meanCrossValScore = crossValScore.mean()\n",
    "print('Cross Validation Score with MSE in Training Set: {}'.format(meanCrossValScore))\n",
    "crossValScore = cross_val_score(linRegModel, X_train, Y_train, cv = folds, scoring = 'r2')\n",
    "print('Cross Validation Score with R^2 in Training Set: {}'.format(crossValScore.mean()))\n",
    "print()\n",
    "\n",
    "\n",
    "crossValScore = cross_val_score(linRegModel, X_test, Y_test, cv = folds, scoring = 'neg_mean_squared_error')\n",
    "print('Cross Validation Score with MSE in Test Set: {}'.format(crossValScore.mean()))\n",
    "crossValScore = cross_val_score(linRegModel, X_test, Y_test, cv = folds, scoring = 'r2')\n",
    "print('Cross Validation Score with R^2 in Test Set: {}'.format(crossValScore.mean()))\n",
    "print()"
   ]
  },
  {
   "cell_type": "markdown",
   "id": "43ffd4fa",
   "metadata": {},
   "source": [
    "# Ridge Regression\n",
    "# cross Validation Approach only(no validation set, because data is big - 400 sets)"
   ]
  },
  {
   "cell_type": "code",
   "execution_count": 25,
   "id": "6aeaace8",
   "metadata": {},
   "outputs": [
    {
     "name": "stdout",
     "output_type": "stream",
     "text": [
      "Cross Validation Score with MSE in Training Set: -25.014634364292743\n",
      "Cross Validation Score with R^2 in Training Set: 0.6926455262725364\n",
      "\n",
      "Cross Validation Score with MSE in Test Set: -25.972122941254042\n",
      "Cross Validation Score with R^2 in Test Set: 0.7097149045678304\n",
      "\n"
     ]
    }
   ],
   "source": [
    "from sklearn.linear_model import Ridge\n",
    "\n",
    "model = Ridge()\n",
    "model.fit(X_train, Y_train)\n",
    "\n",
    "#print(model.intercept_, model.coef_)\n",
    "\n",
    "crossValScore = cross_val_score(model, X_train, Y_train, cv = folds, scoring = 'neg_mean_squared_error')\n",
    "print('Cross Validation Score with MSE in Training Set: {}'.format(crossValScore.mean()))\n",
    "crossValScore = cross_val_score(model, X_train, Y_train, cv = folds, scoring = 'r2')\n",
    "print('Cross Validation Score with R^2 in Training Set: {}'.format(crossValScore.mean()))\n",
    "print()\n",
    "\n",
    "crossValScore = cross_val_score(model, X_test, Y_test, cv = folds, scoring = 'neg_mean_squared_error')\n",
    "print('Cross Validation Score with MSE in Test Set: {}'.format(crossValScore.mean()))\n",
    "crossValScore = cross_val_score(model, X_test, Y_test, cv = folds, scoring = 'r2')\n",
    "print('Cross Validation Score with R^2 in Test Set: {}'.format(crossValScore.mean()))\n",
    "print()"
   ]
  },
  {
   "cell_type": "markdown",
   "id": "89a0d398",
   "metadata": {},
   "source": [
    "# Lasso Regression"
   ]
  },
  {
   "cell_type": "code",
   "execution_count": 26,
   "id": "019ee2e5",
   "metadata": {
    "scrolled": true
   },
   "outputs": [
    {
     "name": "stdout",
     "output_type": "stream",
     "text": [
      "Cross Validation Score with MSE in Training Set: -29.151433292468568\n",
      "Cross Validation Score with R^2 in Training Set: 0.644588731624381\n",
      "\n",
      "Cross Validation Score with MSE in Test Set: -30.35053330581816\n",
      "Cross Validation Score with R^2 in Test Set: 0.674430986870033\n",
      "\n"
     ]
    }
   ],
   "source": [
    "from sklearn.linear_model import Lasso\n",
    "\n",
    "model = Lasso()\n",
    "model.fit(X_train, Y_train)\n",
    "\n",
    "#print(model.intercept_, model.coef_)\n",
    "\n",
    "crossValScore = cross_val_score(model, X_train, Y_train, cv = folds, scoring = 'neg_mean_squared_error')\n",
    "print('Cross Validation Score with MSE in Training Set: {}'.format(crossValScore.mean()))\n",
    "crossValScore = cross_val_score(model, X_train, Y_train, cv = folds, scoring = 'r2')\n",
    "print('Cross Validation Score with R^2 in Training Set: {}'.format(crossValScore.mean()))\n",
    "print()\n",
    "\n",
    "crossValScore = cross_val_score(model, X_test, Y_test, cv = folds, scoring = 'neg_mean_squared_error')\n",
    "print('Cross Validation Score with MSE in Test Set: {}'.format(crossValScore.mean()))\n",
    "crossValScore = cross_val_score(model, X_test, Y_test, cv = folds, scoring = 'r2')\n",
    "print('Cross Validation Score with R^2 in Test Set: {}'.format(crossValScore.mean()))\n",
    "print()"
   ]
  },
  {
   "cell_type": "markdown",
   "id": "0839ec59",
   "metadata": {},
   "source": [
    "# Quick Note : actual code will be like -\n",
    "\n",
    "from sklearn.linear_model import Lasso\n",
    "\n",
    "model = Lasso()\n",
    "model.fit(X_train, Y_train)\n",
    "\n",
    "crossValScore = cross_val_score(model, X_test, Y_test, cv = folds, scoring = 'neg_mean_squared_error')\n",
    "print('Cross Validation Score with MSE in Test Set: {}'.format(crossValScore.mean()))\n",
    "\n",
    "# -> only test set errors\n",
    "# -> either only neg_mean_squared_error or r2 error"
   ]
  },
  {
   "cell_type": "markdown",
   "id": "91f21dff",
   "metadata": {},
   "source": [
    "# K Nearest Neighbor"
   ]
  },
  {
   "cell_type": "code",
   "execution_count": 31,
   "id": "ac5dc8c2",
   "metadata": {},
   "outputs": [
    {
     "name": "stdout",
     "output_type": "stream",
     "text": [
      "Cross Validation Score with MSE in Training Set: -47.3831099009901\n",
      "Cross Validation Score with R^2 in Training Set: 0.4078969671370324\n",
      "\n",
      "Cross Validation Score with MSE in Test Set: -78.32420815384614\n",
      "Cross Validation Score with R^2 in Test Set: 0.13896471761848012\n",
      "\n"
     ]
    }
   ],
   "source": [
    "from sklearn.neighbors import KNeighborsRegressor\n",
    "\n",
    "model = KNeighborsRegressor()\n",
    "model.fit(X_train, Y_train)\n",
    "\n",
    "crossValScore = cross_val_score(model, X_train, Y_train, cv = folds, scoring = 'neg_mean_squared_error')\n",
    "print('Cross Validation Score with MSE in Training Set: {}'.format(crossValScore.mean()))\n",
    "crossValScore = cross_val_score(model, X_train, Y_train, cv = folds, scoring = 'r2')\n",
    "print('Cross Validation Score with R^2 in Training Set: {}'.format(crossValScore.mean()))\n",
    "print()\n",
    "\n",
    "crossValScore = cross_val_score(model, X_test, Y_test, cv = folds, scoring = 'neg_mean_squared_error')\n",
    "print('Cross Validation Score with MSE in Test Set: {}'.format(crossValScore.mean()))\n",
    "crossValScore = cross_val_score(model, X_test, Y_test, cv = folds, scoring = 'r2')\n",
    "print('Cross Validation Score with R^2 in Test Set: {}'.format(crossValScore.mean()))\n",
    "print()"
   ]
  },
  {
   "cell_type": "markdown",
   "id": "51fad571",
   "metadata": {},
   "source": [
    "# Decision Tree"
   ]
  },
  {
   "cell_type": "code",
   "execution_count": 32,
   "id": "f3290ff2",
   "metadata": {
    "scrolled": true
   },
   "outputs": [
    {
     "name": "stdout",
     "output_type": "stream",
     "text": [
      "Cross Validation Score with MSE in Training Set: -23.98542079207921\n",
      "Cross Validation Score with R^2 in Training Set: 0.7006595798619528\n",
      "\n",
      "Cross Validation Score with MSE in Test Set: -33.175873076923075\n",
      "Cross Validation Score with R^2 in Test Set: 0.6119848807567507\n",
      "\n"
     ]
    }
   ],
   "source": [
    "from sklearn.tree import DecisionTreeRegressor\n",
    "\n",
    "model = DecisionTreeRegressor()\n",
    "model.fit(X_train, Y_train)\n",
    "\n",
    "crossValScore = cross_val_score(model, X_train, Y_train, cv = folds, scoring = 'neg_mean_squared_error')\n",
    "print('Cross Validation Score with MSE in Training Set: {}'.format(crossValScore.mean()))\n",
    "crossValScore = cross_val_score(model, X_train, Y_train, cv = folds, scoring = 'r2')\n",
    "print('Cross Validation Score with R^2 in Training Set: {}'.format(crossValScore.mean()))\n",
    "print()\n",
    "\n",
    "crossValScore = cross_val_score(model, X_test, Y_test, cv = folds, scoring = 'neg_mean_squared_error')\n",
    "print('Cross Validation Score with MSE in Test Set: {}'.format(crossValScore.mean()))\n",
    "crossValScore = cross_val_score(model, X_test, Y_test, cv = folds, scoring = 'r2')\n",
    "print('Cross Validation Score with R^2 in Test Set: {}'.format(crossValScore.mean()))\n",
    "print()"
   ]
  },
  {
   "cell_type": "markdown",
   "id": "3ba5c0a5",
   "metadata": {},
   "source": [
    "# Support Vector Regressor"
   ]
  },
  {
   "cell_type": "code",
   "execution_count": 33,
   "id": "d91a1da0",
   "metadata": {
    "scrolled": false
   },
   "outputs": [
    {
     "name": "stdout",
     "output_type": "stream",
     "text": [
      "Cross Validation Score with MSE in Training Set: -64.85454019698284\n",
      "Cross Validation Score with R^2 in Training Set: 0.21368639258089875\n",
      "\n",
      "Cross Validation Score with MSE in Test Set: -85.88483321898642\n",
      "Cross Validation Score with R^2 in Test Set: 0.11244969336305827\n",
      "\n"
     ]
    }
   ],
   "source": [
    "from sklearn.svm import SVR\n",
    "\n",
    "model = SVR()\n",
    "model.fit(X_train, Y_train)\n",
    "\n",
    "crossValScore = cross_val_score(model, X_train, Y_train, cv = folds, scoring = 'neg_mean_squared_error')\n",
    "print('Cross Validation Score with MSE in Training Set: {}'.format(crossValScore.mean()))\n",
    "crossValScore = cross_val_score(model, X_train, Y_train, cv = folds, scoring = 'r2')\n",
    "print('Cross Validation Score with R^2 in Training Set: {}'.format(crossValScore.mean()))\n",
    "print()\n",
    "\n",
    "crossValScore = cross_val_score(model, X_test, Y_test, cv = folds, scoring = 'neg_mean_squared_error')\n",
    "print('Cross Validation Score with MSE in Test Set: {}'.format(crossValScore.mean()))\n",
    "crossValScore = cross_val_score(model, X_test, Y_test, cv = folds, scoring = 'r2')\n",
    "print('Cross Validation Score with R^2 in Test Set: {}'.format(crossValScore.mean()))\n",
    "print()"
   ]
  },
  {
   "cell_type": "code",
   "execution_count": null,
   "id": "181b241c",
   "metadata": {},
   "outputs": [],
   "source": []
  }
 ],
 "metadata": {
  "kernelspec": {
   "display_name": "Python 3",
   "language": "python",
   "name": "python3"
  },
  "language_info": {
   "codemirror_mode": {
    "name": "ipython",
    "version": 3
   },
   "file_extension": ".py",
   "mimetype": "text/x-python",
   "name": "python",
   "nbconvert_exporter": "python",
   "pygments_lexer": "ipython3",
   "version": "3.8.8"
  }
 },
 "nbformat": 4,
 "nbformat_minor": 5
}
