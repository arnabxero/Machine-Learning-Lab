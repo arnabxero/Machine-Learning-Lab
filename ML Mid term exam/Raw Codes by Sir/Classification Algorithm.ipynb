{
 "cells": [
  {
   "cell_type": "markdown",
   "id": "2b988921",
   "metadata": {},
   "source": [
    "# Classification Algorithm (Cross Validation)"
   ]
  },
  {
   "cell_type": "code",
   "execution_count": 10,
   "id": "03200b2d",
   "metadata": {
    "scrolled": false
   },
   "outputs": [
    {
     "name": "stdout",
     "output_type": "stream",
     "text": [
      "(150, 5)\n",
      "   sepal length (cm)  sepal width (cm)  petal length (cm)  petal width (cm)  \\\n",
      "0                5.1               3.5                1.4               0.2   \n",
      "1                4.9               3.0                1.4               0.2   \n",
      "2                4.7               3.2                1.3               0.2   \n",
      "3                4.6               3.1                1.5               0.2   \n",
      "4                5.0               3.6                1.4               0.2   \n",
      "\n",
      "   target  \n",
      "0       0  \n",
      "1       0  \n",
      "2       0  \n",
      "3       0  \n",
      "4       0  \n"
     ]
    }
   ],
   "source": [
    "from sklearn import datasets\n",
    "import pandas as pd\n",
    "import numpy as np\n",
    "from sklearn.metrics import mean_squared_error\n",
    "from sklearn.metrics import r2_score\n",
    "from sklearn.model_selection import KFold\n",
    "from sklearn.model_selection import cross_val_score\n",
    "\n",
    "iris = datasets.load_iris()\n",
    "irisDF = pd.DataFrame(iris.data, columns = iris.feature_names)\n",
    "irisDF['target'] = iris.target\n",
    "print(irisDF.shape)\n",
    "print(irisDF.head(5))"
   ]
  },
  {
   "cell_type": "code",
   "execution_count": 11,
   "id": "edc80bff",
   "metadata": {},
   "outputs": [
    {
     "name": "stdout",
     "output_type": "stream",
     "text": [
      "(120, 4) (120,)\n",
      "(30, 4) (120,)\n"
     ]
    }
   ],
   "source": [
    "from sklearn.model_selection import train_test_split\n",
    "\n",
    "X_train, X_test, Y_train, Y_test = train_test_split(irisDF.drop('target', axis=1), irisDF['target'],\n",
    "                                                   test_size = 0.2, random_state = 1)\n",
    "\n",
    "\n",
    "print(X_train.shape, Y_train.shape)\n",
    "print(X_test.shape, Y_train.shape)"
   ]
  },
  {
   "cell_type": "markdown",
   "id": "79882e18",
   "metadata": {},
   "source": [
    "# Support Vector Classification Approach"
   ]
  },
  {
   "cell_type": "code",
   "execution_count": 26,
   "id": "58325152",
   "metadata": {},
   "outputs": [
    {
     "name": "stdout",
     "output_type": "stream",
     "text": [
      "Cross Validation Score with MSE in Training Set: -0.040630256664548815\n",
      "Cross Validation Score with R^2 in Training Set: 0.9397837060155332\n",
      "\n",
      "Cross Validation Score with MSE in Test Set: -0.05514936704140071\n",
      "Cross Validation Score with R^2 in Test Set: 0.876211644516768\n",
      "\n"
     ]
    }
   ],
   "source": [
    "from sklearn.svm import SVC\n",
    "\n",
    "\n",
    "folds = KFold(n_splits = 4, shuffle = True, random_state = 1)\n",
    "\n",
    "\n",
    "model = SVR()\n",
    "model.fit(X_train, Y_train)\n",
    "\n",
    "crossValScore = cross_val_score(model, X_train, Y_train, cv = folds, scoring = 'neg_mean_squared_error')\n",
    "print('Cross Validation Score with MSE in Training Set: {}'.format(crossValScore.mean()))\n",
    "crossValScore = cross_val_score(model, X_train, Y_train, cv = folds, scoring = 'r2')\n",
    "print('Cross Validation Score with R^2 in Training Set: {}'.format(crossValScore.mean()))\n",
    "print()\n",
    "\n",
    "crossValScore = cross_val_score(model, X_test, Y_test, cv = folds, scoring = 'neg_mean_squared_error')\n",
    "print('Cross Validation Score with MSE in Test Set: {}'.format(crossValScore.mean()))\n",
    "crossValScore = cross_val_score(model, X_test, Y_test, cv = folds, scoring = 'r2')\n",
    "print('Cross Validation Score with R^2 in Test Set: {}'.format(crossValScore.mean()))\n",
    "print()"
   ]
  },
  {
   "cell_type": "markdown",
   "id": "21e7d04b",
   "metadata": {},
   "source": [
    "# K Nearest Neighbor"
   ]
  },
  {
   "cell_type": "code",
   "execution_count": 23,
   "id": "49318077",
   "metadata": {},
   "outputs": [
    {
     "name": "stdout",
     "output_type": "stream",
     "text": [
      "Cross Validation Score with MSE in Training Set: -0.058333333333333334\n",
      "Cross Validation Score with R^2 in Training Set: 0.91322507836753\n",
      "\n",
      "Cross Validation Score with MSE in Test Set: -0.03571428571428571\n",
      "Cross Validation Score with R^2 in Test Set: 0.9485294117647058\n",
      "\n"
     ]
    }
   ],
   "source": [
    "from sklearn.neighbors import KNeighborsClassifier\n",
    "\n",
    "model = KNeighborsClassifier()\n",
    "model.fit(X_train, Y_train)\n",
    "\n",
    "crossValScore = cross_val_score(model, X_train, Y_train, cv = folds, scoring = 'neg_mean_squared_error')\n",
    "print('Cross Validation Score with MSE in Training Set: {}'.format(crossValScore.mean()))\n",
    "crossValScore = cross_val_score(model, X_train, Y_train, cv = folds, scoring = 'r2')\n",
    "print('Cross Validation Score with R^2 in Training Set: {}'.format(crossValScore.mean()))\n",
    "print()\n",
    "\n",
    "crossValScore = cross_val_score(model, X_test, Y_test, cv = folds, scoring = 'neg_mean_squared_error')\n",
    "print('Cross Validation Score with MSE in Test Set: {}'.format(crossValScore.mean()))\n",
    "crossValScore = cross_val_score(model, X_test, Y_test, cv = folds, scoring = 'r2')\n",
    "print('Cross Validation Score with R^2 in Test Set: {}'.format(crossValScore.mean()))\n",
    "print()"
   ]
  },
  {
   "cell_type": "markdown",
   "id": "648a95b0",
   "metadata": {},
   "source": [
    "# Decision Tree"
   ]
  },
  {
   "cell_type": "code",
   "execution_count": 24,
   "id": "724a340a",
   "metadata": {},
   "outputs": [
    {
     "name": "stdout",
     "output_type": "stream",
     "text": [
      "Cross Validation Score with MSE in Training Set: -0.06666666666666667\n",
      "Cross Validation Score with R^2 in Training Set: 0.9498516279327749\n",
      "\n",
      "Cross Validation Score with MSE in Test Set: -0.03571428571428571\n",
      "Cross Validation Score with R^2 in Test Set: 0.9485294117647058\n",
      "\n"
     ]
    }
   ],
   "source": [
    "from sklearn.tree import DecisionTreeClassifier\n",
    "\n",
    "model = DecisionTreeRegressor()\n",
    "model.fit(X_train, Y_train)\n",
    "\n",
    "crossValScore = cross_val_score(model, X_train, Y_train, cv = folds, scoring = 'neg_mean_squared_error')\n",
    "print('Cross Validation Score with MSE in Training Set: {}'.format(crossValScore.mean()))\n",
    "crossValScore = cross_val_score(model, X_train, Y_train, cv = folds, scoring = 'r2')\n",
    "print('Cross Validation Score with R^2 in Training Set: {}'.format(crossValScore.mean()))\n",
    "print()\n",
    "\n",
    "crossValScore = cross_val_score(model, X_test, Y_test, cv = folds, scoring = 'neg_mean_squared_error')\n",
    "print('Cross Validation Score with MSE in Test Set: {}'.format(crossValScore.mean()))\n",
    "crossValScore = cross_val_score(model, X_test, Y_test, cv = folds, scoring = 'r2')\n",
    "print('Cross Validation Score with R^2 in Test Set: {}'.format(crossValScore.mean()))\n",
    "print()"
   ]
  },
  {
   "cell_type": "markdown",
   "id": "a86abf11",
   "metadata": {},
   "source": [
    "# Random Forest"
   ]
  },
  {
   "cell_type": "code",
   "execution_count": 19,
   "id": "9abf5f45",
   "metadata": {},
   "outputs": [
    {
     "name": "stdout",
     "output_type": "stream",
     "text": [
      "Cross Validation Score with MSE in Training Set: -0.04166666666666667\n",
      "Cross Validation Score with R^2 in Training Set: 0.9259961693875534\n",
      "\n",
      "Cross Validation Score with MSE in Test Set: -0.03571428571428571\n",
      "Cross Validation Score with R^2 in Test Set: 0.8972473604826545\n",
      "\n"
     ]
    }
   ],
   "source": [
    "from sklearn.ensemble import RandomForestClassifier\n",
    "\n",
    "model = RandomForestClassifier()\n",
    "model.fit(X_train, Y_train)\n",
    "\n",
    "crossValScore = cross_val_score(model, X_train, Y_train, cv = folds, scoring = 'neg_mean_squared_error')\n",
    "print('Cross Validation Score with MSE in Training Set: {}'.format(crossValScore.mean()))\n",
    "crossValScore = cross_val_score(model, X_train, Y_train, cv = folds, scoring = 'r2')\n",
    "print('Cross Validation Score with R^2 in Training Set: {}'.format(crossValScore.mean()))\n",
    "print()\n",
    "\n",
    "crossValScore = cross_val_score(model, X_test, Y_test, cv = folds, scoring = 'neg_mean_squared_error')\n",
    "print('Cross Validation Score with MSE in Test Set: {}'.format(crossValScore.mean()))\n",
    "crossValScore = cross_val_score(model, X_test, Y_test, cv = folds, scoring = 'r2')\n",
    "print('Cross Validation Score with R^2 in Test Set: {}'.format(crossValScore.mean()))\n",
    "print()"
   ]
  },
  {
   "cell_type": "markdown",
   "id": "c98036c4",
   "metadata": {},
   "source": [
    "# XGBoost [not implemented]"
   ]
  },
  {
   "cell_type": "markdown",
   "id": "87913d8f",
   "metadata": {},
   "source": [
    "# Perceptron"
   ]
  },
  {
   "cell_type": "code",
   "execution_count": 22,
   "id": "9ec5eb36",
   "metadata": {},
   "outputs": [
    {
     "name": "stdout",
     "output_type": "stream",
     "text": [
      "Cross Validation Score with MSE in Training Set: -0.04166666666666667\n",
      "Cross Validation Score with R^2 in Training Set: 0.9134122767701036\n",
      "\n",
      "Cross Validation Score with MSE in Test Set: -0.06696428571428571\n",
      "Cross Validation Score with R^2 in Test Set: 0.8972473604826545\n",
      "\n"
     ]
    }
   ],
   "source": [
    "from sklearn.linear_model import Perceptron\n",
    "\n",
    "model = Perceptron()\n",
    "model.fit(X_train, Y_train)\n",
    "\n",
    "from sklearn.ensemble import RandomForestClassifier\n",
    "\n",
    "model = RandomForestClassifier()\n",
    "model.fit(X_train, Y_train)\n",
    "\n",
    "crossValScore = cross_val_score(model, X_train, Y_train, cv = folds, scoring = 'neg_mean_squared_error')\n",
    "print('Cross Validation Score with MSE in Training Set: {}'.format(crossValScore.mean()))\n",
    "crossValScore = cross_val_score(model, X_train, Y_train, cv = folds, scoring = 'r2')\n",
    "print('Cross Validation Score with R^2 in Training Set: {}'.format(crossValScore.mean()))\n",
    "print()\n",
    "\n",
    "crossValScore = cross_val_score(model, X_test, Y_test, cv = folds, scoring = 'neg_mean_squared_error')\n",
    "print('Cross Validation Score with MSE in Test Set: {}'.format(crossValScore.mean()))\n",
    "crossValScore = cross_val_score(model, X_test, Y_test, cv = folds, scoring = 'r2')\n",
    "print('Cross Validation Score with R^2 in Test Set: {}'.format(crossValScore.mean()))\n",
    "print()"
   ]
  },
  {
   "cell_type": "code",
   "execution_count": null,
   "id": "7d6bce48",
   "metadata": {},
   "outputs": [],
   "source": []
  }
 ],
 "metadata": {
  "kernelspec": {
   "display_name": "Python 3",
   "language": "python",
   "name": "python3"
  },
  "language_info": {
   "codemirror_mode": {
    "name": "ipython",
    "version": 3
   },
   "file_extension": ".py",
   "mimetype": "text/x-python",
   "name": "python",
   "nbconvert_exporter": "python",
   "pygments_lexer": "ipython3",
   "version": "3.8.8"
  }
 },
 "nbformat": 4,
 "nbformat_minor": 5
}
