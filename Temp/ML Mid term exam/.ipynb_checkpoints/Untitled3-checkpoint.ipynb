{
 "cells": [
  {
   "cell_type": "code",
   "execution_count": 15,
   "id": "936746ca",
   "metadata": {},
   "outputs": [
    {
     "name": "stdout",
     "output_type": "stream",
     "text": [
      "(150, 5)\n",
      "   sepal length (cm)  sepal width (cm)  petal length (cm)  petal width (cm)  \\\n",
      "0                5.1               3.5                1.4               0.2   \n",
      "1                4.9               3.0                1.4               0.2   \n",
      "2                4.7               3.2                1.3               0.2   \n",
      "3                4.6               3.1                1.5               0.2   \n",
      "4                5.0               3.6                1.4               0.2   \n",
      "\n",
      "   target  \n",
      "0       0  \n",
      "1       0  \n",
      "2       0  \n",
      "3       0  \n",
      "4       0  \n"
     ]
    }
   ],
   "source": [
    "from sklearn import datasets\n",
    "import pandas as pd\n",
    "import numpy as np\n",
    "from sklearn.metrics import mean_squared_error\n",
    "from sklearn.metrics import r2_score\n",
    "from sklearn.model_selection import KFold\n",
    "from sklearn.model_selection import cross_val_score\n",
    "\n",
    "iris = datasets.load_iris()\n",
    "irisDF = pd.DataFrame(iris.data, columns = iris.feature_names)\n",
    "irisDF['target'] = iris.target\n",
    "print(irisDF.shape)\n",
    "print(irisDF.head(5))"
   ]
  },
  {
   "cell_type": "code",
   "execution_count": 16,
   "id": "b293e299",
   "metadata": {},
   "outputs": [
    {
     "name": "stdout",
     "output_type": "stream",
     "text": [
      "(120, 4) (120,)\n",
      "(30, 4) (120,)\n"
     ]
    }
   ],
   "source": [
    "from sklearn.model_selection import train_test_split\n",
    "\n",
    "X_train, X_test, Y_train, Y_test = train_test_split(irisDF.drop('target', axis=1), irisDF['target'],\n",
    "                                                   test_size = 0.2, random_state = 1)\n",
    "\n",
    "\n",
    "print(X_train.shape, Y_train.shape)\n",
    "print(X_test.shape, Y_train.shape)"
   ]
  },
  {
   "cell_type": "code",
   "execution_count": 17,
   "id": "025cd39f",
   "metadata": {},
   "outputs": [],
   "source": [
    "folds = KFold(n_splits = 4, shuffle = True, random_state = 1)\n"
   ]
  },
  {
   "cell_type": "code",
   "execution_count": 18,
   "id": "831e1a42",
   "metadata": {},
   "outputs": [
    {
     "name": "stdout",
     "output_type": "stream",
     "text": [
      "Cross Validation Score with MSE in Training Set: -0.04166666666666667\n",
      "Cross Validation Score with R^2 in Training Set: 0.9382056651998556\n",
      "\n",
      "Cross Validation Score with MSE in Test Set: -0.03571428571428571\n",
      "Cross Validation Score with R^2 in Test Set: 0.9485294117647058\n",
      "\n"
     ]
    }
   ],
   "source": [
    "from sklearn.datasets import make_classification\n",
    "from sklearn.linear_model import LogisticRegression\n",
    "from sklearn import preprocessing\n",
    "from sklearn.pipeline import make_pipeline\n",
    "from sklearn.preprocessing import StandardScaler\n",
    "\n",
    "model = make_pipeline(StandardScaler(), LogisticRegression())\n",
    "#model = LogisticRegression()\n",
    "model.fit(X_train, Y_train)\n",
    "\n",
    "\n",
    "\n",
    "crossValScore = cross_val_score(model, X_train, Y_train, cv = folds, scoring = 'neg_mean_squared_error')\n",
    "print('Cross Validation Score with MSE in Training Set: {}'.format(crossValScore.mean()))\n",
    "crossValScore = cross_val_score(model, X_train, Y_train, cv = folds, scoring = 'r2')\n",
    "print('Cross Validation Score with R^2 in Training Set: {}'.format(crossValScore.mean()))\n",
    "print()\n",
    "\n",
    "crossValScore = cross_val_score(model, X_test, Y_test, cv = folds, scoring = 'neg_mean_squared_error')\n",
    "print('Cross Validation Score with MSE in Test Set: {}'.format(crossValScore.mean()))\n",
    "crossValScore = cross_val_score(model, X_test, Y_test, cv = folds, scoring = 'r2')\n",
    "print('Cross Validation Score with R^2 in Test Set: {}'.format(crossValScore.mean()))\n",
    "print()"
   ]
  },
  {
   "cell_type": "code",
   "execution_count": null,
   "id": "5c05a0d7",
   "metadata": {},
   "outputs": [],
   "source": []
  }
 ],
 "metadata": {
  "kernelspec": {
   "display_name": "Python 3",
   "language": "python",
   "name": "python3"
  },
  "language_info": {
   "codemirror_mode": {
    "name": "ipython",
    "version": 3
   },
   "file_extension": ".py",
   "mimetype": "text/x-python",
   "name": "python",
   "nbconvert_exporter": "python",
   "pygments_lexer": "ipython3",
   "version": "3.8.8"
  }
 },
 "nbformat": 4,
 "nbformat_minor": 5
}
