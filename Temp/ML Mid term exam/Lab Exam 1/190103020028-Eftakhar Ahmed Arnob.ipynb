{
 "cells": [
  {
   "cell_type": "markdown",
   "id": "c93babac",
   "metadata": {},
   "source": [
    "# Ans of Question - 2"
   ]
  },
  {
   "cell_type": "markdown",
   "id": "a1125803",
   "metadata": {},
   "source": [
    "## Q1"
   ]
  },
  {
   "cell_type": "code",
   "execution_count": 22,
   "id": "1a375410",
   "metadata": {},
   "outputs": [],
   "source": [
    "from sklearn import datasets\n",
    "import pandas as pd\n",
    "import numpy as np\n",
    "from sklearn.model_selection import cross_val_score\n",
    "from sklearn.model_selection import KFold\n",
    "\n",
    "\n",
    "wine = datasets.load_wine()\n",
    "wineDF = pd.DataFrame(wine.data, columns = wine.feature_names)\n",
    "wineDF['target'] = wine.target\n",
    "#print(wineDF.shape)\n",
    "#print(wineDF.head(5))"
   ]
  },
  {
   "cell_type": "markdown",
   "id": "3af8d624",
   "metadata": {},
   "source": [
    "## Q2"
   ]
  },
  {
   "cell_type": "code",
   "execution_count": 23,
   "id": "e2243ba7",
   "metadata": {},
   "outputs": [
    {
     "name": "stdout",
     "output_type": "stream",
     "text": [
      "Total Number of Samples : 178\n",
      "Total Number of Features : 14\n"
     ]
    }
   ],
   "source": [
    "samples, features = wineDF.shape\n",
    "print('Total Number of Samples : ', end=\"\")\n",
    "print(samples)\n",
    "print('Total Number of Features : ', end=\"\")\n",
    "print(features)"
   ]
  },
  {
   "cell_type": "markdown",
   "id": "8ef856f0",
   "metadata": {},
   "source": [
    "## Q3"
   ]
  },
  {
   "cell_type": "markdown",
   "id": "d5218b60",
   "metadata": {},
   "source": [
    "### Decision Tree"
   ]
  },
  {
   "cell_type": "code",
   "execution_count": 44,
   "id": "fecdf40b",
   "metadata": {},
   "outputs": [
    {
     "name": "stdout",
     "output_type": "stream",
     "text": [
      "Cross Validation Score with MSE in Training Set: -0.10591133004926108\n"
     ]
    }
   ],
   "source": [
    "from sklearn.tree import DecisionTreeClassifier\n",
    "\n",
    "from sklearn.model_selection import train_test_split\n",
    "\n",
    "X_train, X_test, Y_train, Y_test = train_test_split(wineDF.drop('target', axis=1), wineDF['target'],\n",
    "                                                   test_size = 0.2, random_state = 1)\n",
    "\n",
    "\n",
    "#print(X_train.shape, Y_train.shape)\n",
    "#print(X_test.shape, Y_train.shape)\n",
    "\n",
    "folds = KFold(n_splits = 5, shuffle = True, random_state = 1)\n",
    "\n",
    "model = DecisionTreeClassifier()\n",
    "model.fit(X_train, Y_train)\n",
    "\n",
    "crossValScore = cross_val_score(model, X_train, Y_train, cv = folds, scoring = 'neg_mean_squared_error')\n",
    "print('Cross Validation Score with MSE in Training Set: {}'.format(crossValScore.mean()))"
   ]
  },
  {
   "cell_type": "markdown",
   "id": "8117e0de",
   "metadata": {},
   "source": [
    "### Logistic Regression"
   ]
  },
  {
   "cell_type": "code",
   "execution_count": 45,
   "id": "fe52f7df",
   "metadata": {
    "scrolled": false
   },
   "outputs": [
    {
     "name": "stdout",
     "output_type": "stream",
     "text": [
      "Cross Validation Score with MSE in Training Set: -0.027832512315270935\n"
     ]
    }
   ],
   "source": [
    "from sklearn.datasets import make_classification\n",
    "from sklearn.linear_model import LogisticRegression\n",
    "from sklearn import preprocessing\n",
    "from sklearn.pipeline import make_pipeline\n",
    "from sklearn.preprocessing import StandardScaler\n",
    "\n",
    "model = make_pipeline(StandardScaler(), LogisticRegression())\n",
    "#model = LogisticRegression()\n",
    "model.fit(X_train, Y_train)\n",
    "\n",
    "crossValScore = cross_val_score(model, X_train, Y_train, cv = folds, scoring = 'neg_mean_squared_error')\n",
    "print('Cross Validation Score with MSE in Training Set: {}'.format(crossValScore.mean()))"
   ]
  },
  {
   "cell_type": "markdown",
   "id": "6beb70ee",
   "metadata": {},
   "source": [
    "### Naive Bayes"
   ]
  },
  {
   "cell_type": "code",
   "execution_count": 46,
   "id": "47ca759d",
   "metadata": {},
   "outputs": [
    {
     "name": "stdout",
     "output_type": "stream",
     "text": [
      "Cross Validation Score with MSE in Training Set: -0.027832512315270935\n"
     ]
    }
   ],
   "source": [
    "from sklearn.naive_bayes import GaussianNB\n",
    "\n",
    "model = GaussianNB()\n",
    "model.fit(X_train, Y_train)\n",
    "\n",
    "crossValScore = cross_val_score(model, X_train, Y_train, cv = folds, scoring = 'neg_mean_squared_error')\n",
    "print('Cross Validation Score with MSE in Training Set: {}'.format(crossValScore.mean()))"
   ]
  },
  {
   "cell_type": "code",
   "execution_count": null,
   "id": "4f806b80",
   "metadata": {},
   "outputs": [],
   "source": []
  },
  {
   "cell_type": "markdown",
   "id": "64d165cd",
   "metadata": {},
   "source": [
    "# Ans of Question - 1"
   ]
  },
  {
   "cell_type": "code",
   "execution_count": 120,
   "id": "fa435955",
   "metadata": {},
   "outputs": [
    {
     "data": {
      "image/png": "[encoded data removed]",
      "text/plain": [
       "<Figure size 432x288 with 1 Axes>"
      ]
     },
     "metadata": {
      "needs_background": "light"
     },
     "output_type": "display_data"
    }
   ],
   "source": [
    "import matplotlib.pyplot as plt\n",
    "import numpy as np\n",
    "\n",
    "x = np.linspace(-5,5,100)\n",
    "a = (-5*(x-1))\n",
    "b = np.exp(a)\n",
    "\n",
    "y = 1/(1+b)\n",
    "\n",
    "\n",
    "plt.plot(x, y, color='black', linewidth=6)\n",
    "\n",
    "plt.xlabel('x')\n",
    "plt.ylabel('f(x)')\n",
    "\n",
    "plt.title('A graph plotted in Matplotlib')\n",
    "\n",
    "plt.show()"
   ]
  },
  {
   "cell_type": "code",
   "execution_count": null,
   "id": "aaa648c8",
   "metadata": {},
   "outputs": [],
   "source": []
  }
 ],
 "metadata": {
  "kernelspec": {
   "display_name": "Python 3",
   "language": "python",
   "name": "python3"
  },
  "language_info": {
   "codemirror_mode": {
    "name": "ipython",
    "version": 3
   },
   "file_extension": ".py",
   "mimetype": "text/x-python",
   "name": "python",
   "nbconvert_exporter": "python",
   "pygments_lexer": "ipython3",
   "version": "3.8.8"
  }
 },
 "nbformat": 4,
 "nbformat_minor": 5
}
