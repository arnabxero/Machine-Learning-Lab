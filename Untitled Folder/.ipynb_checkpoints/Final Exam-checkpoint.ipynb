{
 "cells": [
  {
   "cell_type": "markdown",
   "id": "6006c4e2",
   "metadata": {},
   "source": [
    "## Ans of question : 1"
   ]
  },
  {
   "cell_type": "code",
   "execution_count": 2,
   "id": "33877098",
   "metadata": {},
   "outputs": [
    {
     "name": "stdout",
     "output_type": "stream",
     "text": [
      "0.5\n",
      "0.4621171572600098\n"
     ]
    }
   ],
   "source": [
    "import numpy as np\n",
    "\n",
    "def tanH(z) :\n",
    "    ztanh = float((np.exp(z) - np.exp(-z)) / (np.exp(z) + np.exp(-z)))\n",
    "    return ztanh\n",
    "\n",
    "z = float(input())\n",
    "\n",
    "print(tanH(z))"
   ]
  },
  {
   "cell_type": "markdown",
   "id": "7d7b50e2",
   "metadata": {},
   "source": [
    "## Ans 0f question : 2"
   ]
  },
  {
   "cell_type": "code",
   "execution_count": 9,
   "id": "105d4bcc",
   "metadata": {},
   "outputs": [
    {
     "name": "stdout",
     "output_type": "stream",
     "text": [
      "           A         B         C         D  T\n",
      "0   0.078216  0.000008  0.277981  0.672826  1\n",
      "1   0.221472  0.296630  0.167009  0.352156  1\n",
      "2   0.459193  0.089939  0.568185  0.234902  1\n",
      "3   0.799632  0.020872  0.844532  0.655081  1\n",
      "4   0.326269  0.963263  0.968236  0.687259  1\n",
      "..       ...       ...       ...       ... ..\n",
      "95  0.659784  0.870574  0.047190  0.018037  1\n",
      "96  0.317097  0.233240  0.820920  0.484625  1\n",
      "97  0.283966  0.024015  0.440299  0.415859  1\n",
      "98  0.908010  0.991728  0.250481  0.558319  1\n",
      "99  0.509377  0.800961  0.603102  0.300149  1\n",
      "\n",
      "[100 rows x 5 columns]\n"
     ]
    }
   ],
   "source": [
    "import pandas as pd\n",
    "import numpy as np\n",
    "import random\n",
    "\n",
    "\n",
    "A = []\n",
    "for i in range(0,100) :\n",
    "    n = random.uniform(0,1)\n",
    "    A.append(n)\n",
    "    \n",
    "B = []\n",
    "for i in range(0,100) :\n",
    "    n = random.uniform(0,1)\n",
    "    B.append(n)\n",
    "    \n",
    "C = []\n",
    "for i in range(0,100) :\n",
    "    n = random.uniform(0,1)\n",
    "    C.append(n)\n",
    "    \n",
    "D = []\n",
    "for i in range(0,100) :\n",
    "    n = random.uniform(0,1)\n",
    "    D.append(n)\n",
    "    \n",
    "T = []\n",
    "for i in range(0,100) :\n",
    "    if(A[i] + B[i] + C[i] + D[i] >= 0.5) :\n",
    "        n = 1\n",
    "    else:\n",
    "        n= 0\n",
    "    T.append(n)    \n",
    "\n",
    "\n",
    "def generatedData() :\n",
    "    data = pd.DataFrame({\"A\":A,\"B\":B,\"C\":C,\"D\":D,\"T\":T})\n",
    "    print(data)\n",
    "\n",
    "if __name__ == \"__main__\" :\n",
    "    generatedData()"
   ]
  },
  {
   "cell_type": "markdown",
   "id": "9cf37173",
   "metadata": {},
   "source": [
    "## Ans of 3"
   ]
  },
  {
   "cell_type": "code",
   "execution_count": 4,
   "id": "ab259e7d",
   "metadata": {},
   "outputs": [
    {
     "name": "stdout",
     "output_type": "stream",
     "text": [
      "     0  1  2  3  4  5\n",
      "0   22  1  0  2  0  0\n",
      "1   26  2  0  1  0  1\n",
      "2   26  2  1  1  0  0\n",
      "3   28  1  0  2  0  0\n",
      "4   22  2  0  1  0  1\n",
      "..  .. .. .. .. .. ..\n",
      "75  27  2  1  1  0  0\n",
      "76  33  4  0  1  0  1\n",
      "77  29  2  1  2  0  1\n",
      "78  25  1  2  0  0  1\n",
      "79  24  2  2  1  0  0\n",
      "\n",
      "[80 rows x 6 columns]\n"
     ]
    }
   ],
   "source": [
    "import numpy as np\n",
    "import pandas as pd\n",
    "from sklearn.model_selection import train_test_split\n",
    "\n",
    "\n",
    "data = pd.read_csv(r'caesarian.csv', header=None, skiprows=17)\n",
    "\n",
    "framedData = pd.DataFrame(data)\n",
    "\n",
    "print(framedData)\n",
    "\n",
    "X_train, X_test, Y_train, Y_test = train_test_split(framedData.drop(5, axis = 1), framedData[5], test_size = 0.2, random_state = 22)"
   ]
  },
  {
   "cell_type": "code",
   "execution_count": 5,
   "id": "d7fe13d4",
   "metadata": {},
   "outputs": [
    {
     "name": "stdout",
     "output_type": "stream",
     "text": [
      "Cross Validation Score with MSE in Training Set: -0.375\n",
      "Cross Validation Score with R^2 in Training Set: -0.6222222222222222\n",
      "\n",
      "Cross Validation Score with MSE in Test Set: -0.5\n",
      "Cross Validation Score with R^2 in Test Set: -1.0833333333333333\n",
      "\n"
     ]
    }
   ],
   "source": [
    "from sklearn.svm import SVC\n",
    "from sklearn.model_selection import cross_val_score\n",
    "from sklearn.metrics import mean_squared_error\n",
    "from sklearn.metrics import r2_score\n",
    "from sklearn.model_selection import KFold\n",
    "\n",
    "folds = KFold(n_splits = 4, shuffle = True, random_state = 1)\n",
    "\n",
    "model = SVC()\n",
    "\n",
    "model.fit(X_train, Y_train)\n",
    "\n",
    "crossValScore = cross_val_score(model, X_train, Y_train, cv = folds, scoring = 'neg_mean_squared_error')\n",
    "print('Cross Validation Score with MSE in Training Set: {}'.format(crossValScore.mean()))\n",
    "crossValScore = cross_val_score(model, X_train, Y_train, cv = folds, scoring = 'r2')\n",
    "print('Cross Validation Score with R^2 in Training Set: {}'.format(crossValScore.mean()))\n",
    "\n",
    "print()\n",
    "\n",
    "crossValScore = cross_val_score(model, X_test, Y_test, cv = folds, scoring = 'neg_mean_squared_error')\n",
    "print('Cross Validation Score with MSE in Test Set: {}'.format(crossValScore.mean()))\n",
    "crossValScore = cross_val_score(model, X_test, Y_test, cv = folds, scoring = 'r2')\n",
    "print('Cross Validation Score with R^2 in Test Set: {}'.format(crossValScore.mean()))\n",
    "\n",
    "print()"
   ]
  },
  {
   "cell_type": "code",
   "execution_count": null,
   "id": "d52ddf7b",
   "metadata": {},
   "outputs": [],
   "source": []
  }
 ],
 "metadata": {
  "kernelspec": {
   "display_name": "Python 3",
   "language": "python",
   "name": "python3"
  },
  "language_info": {
   "codemirror_mode": {
    "name": "ipython",
    "version": 3
   },
   "file_extension": ".py",
   "mimetype": "text/x-python",
   "name": "python",
   "nbconvert_exporter": "python",
   "pygments_lexer": "ipython3",
   "version": "3.8.8"
  }
 },
 "nbformat": 4,
 "nbformat_minor": 5
}
