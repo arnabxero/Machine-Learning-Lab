{
 "cells": [
  {
   "attachments": {},
   "cell_type": "markdown",
   "id": "49620342",
   "metadata": {},
   "source": [
    "import numpy as np [দরকারী লাইব্রেরি ইম্পোর্ট করা হয়েছে]\n",
    "\n",
    "z = float(input()) [z ভেরিয়েবল এ একটা ফ্লোট নাম্বার ইনপুট নেয়া হয়েছে]\n",
    "\n",
    "tanh_z = (np.exp(z) - np.exp(-z)) / (np.exp(z) + np.exp(-z))\n",
    "\n",
    "[np.exp(n) ফাংশনটার মানে হল = e to the power n, অথবা লিখা যায় e^n]\n",
    "[এখানে ফরমুলা টা ছিল tanh of z = (e^z - e^(-z)) / (e^z + e^(-z))]\n",
    "\n",
    "\n",
    "\n",
    "এখানে দেখো উপরের অংশটা হচ্ছে (e^z - e^(-z)) , যেটার কোড হচ্ছে = (np.exp(z) - np.exp(-z))\n",
    "\n",
    "এবং নিচের অংশ হচ্ছে (e^z + e^(-z)), যেটার কোড হচ্ছে = (np.exp(z) + np.exp(-z)\n",
    "\n",
    "\n",
    "অর্থাৎ ,\n",
    "\n",
    "            (e^z - e^(-z))\n",
    "tanh(z) = ------------------      [মুল সূত্র]\n",
    "            (e^z + e^(-z))\n",
    "            \n",
    "                (np.exp(z) - np.exp(-z))\n",
    "=> tanh_z = -----------------------------------       [কোড]\n",
    "                (np.exp(z) + np.exp(-z))\n",
    "                \n",
    "                \n",
    "                \n",
    "                \n",
    "                \n",
    "                "
   ]
  },
  {
   "cell_type": "code",
   "execution_count": null,
   "id": "7ba1282d",
   "metadata": {},
   "outputs": [],
   "source": []
  }
 ],
 "metadata": {
  "kernelspec": {
   "display_name": "Python 3",
   "language": "python",
   "name": "python3"
  },
  "language_info": {
   "codemirror_mode": {
    "name": "ipython",
    "version": 3
   },
   "file_extension": ".py",
   "mimetype": "text/x-python",
   "name": "python",
   "nbconvert_exporter": "python",
   "pygments_lexer": "ipython3",
   "version": "3.8.8"
  }
 },
 "nbformat": 4,
 "nbformat_minor": 5
}
