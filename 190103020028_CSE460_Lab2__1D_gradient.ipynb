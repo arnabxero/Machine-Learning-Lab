{
  "nbformat": 4,
  "nbformat_minor": 0,
  "metadata": {
    "colab": {
      "name": "190103020028_CSE460 Lab2 _1D_gradient.ipynb",
      "provenance": [],
      "collapsed_sections": [],
      "include_colab_link": true
    },
    "kernelspec": {
      "name": "python3",
      "display_name": "Python 3"
    },
    "language_info": {
      "name": "python"
    }
  },
  "cells": [
    {
      "cell_type": "markdown",
      "metadata": {
        "id": "view-in-github",
        "colab_type": "text"
      },
      "source": [
        "<a href=\"https://colab.research.google.com/github/arnabxero/Machine-Learning-Lab/blob/main/190103020028_CSE460_Lab2__1D_gradient.ipynb\" target=\"_parent\"><img src=\"https://colab.research.google.com/assets/colab-badge.svg\" alt=\"Open In Colab\"/></a>"
      ]
    },
    {
      "cell_type": "code",
      "execution_count": 1,
      "metadata": {
        "id": "5ludvRnT95hX"
      },
      "outputs": [],
      "source": [
        "# import torch\n",
        "import numpy as np\n",
        "import matplotlib.pyplot as plt"
      ]
    },
    {
      "cell_type": "markdown",
      "source": [
        "### Find minima using gradient descent."
      ],
      "metadata": {
        "id": "QFDa4P4cC89a"
      }
    },
    {
      "cell_type": "markdown",
      "source": [
        "$$y=f(x)=x^2-4x+6$$\n",
        "\n",
        "<!-- $$dx=2x-4$$ -->"
      ],
      "metadata": {
        "id": "PQcqFt-J_neQ"
      }
    },
    {
      "cell_type": "markdown",
      "source": [
        "$$dy/dx=2x-4$$"
      ],
      "metadata": {
        "id": "szz00Y2LMg8w"
      }
    },
    {
      "cell_type": "code",
      "source": [
        "x0=np.arange(-5,9, 0.1)\n",
        "# print(x0)"
      ],
      "metadata": {
        "id": "p2lr7AJI_mix"
      },
      "execution_count": 2,
      "outputs": []
    },
    {
      "cell_type": "code",
      "source": [
        "def f(x):\n",
        "  return x**2 -4*x +6"
      ],
      "metadata": {
        "id": "M7KpnoK6DMjk"
      },
      "execution_count": 3,
      "outputs": []
    },
    {
      "cell_type": "code",
      "source": [
        "y0=f(x0)"
      ],
      "metadata": {
        "id": "Orugp7WN96sn"
      },
      "execution_count": 4,
      "outputs": []
    },
    {
      "cell_type": "code",
      "source": [
        "plt.plot(x0,y0)"
      ],
      "metadata": {
        "colab": {
          "base_uri": "https://localhost:8080/",
          "height": 283
        },
        "id": "4IcoX1Ny96wG",
        "outputId": "7b531588-1015-4149-c10b-a19e7fbc86ae"
      },
      "execution_count": 5,
      "outputs": [
        {
          "output_type": "execute_result",
          "data": {
            "text/plain": [
              "[<matplotlib.lines.Line2D at 0x7fba4843c410>]"
            ]
          },
          "metadata": {},
          "execution_count": 5
        },
        {
          "output_type": "display_data",
          "data": {
            "image/png": "[encoded data removed]",
            "text/plain": [
              "<Figure size 432x288 with 1 Axes>"
            ]
          },
          "metadata": {
            "needs_background": "light"
          }
        }
      ]
    },
    {
      "cell_type": "markdown",
      "source": [
        "### Question: What is the minima of the above function?"
      ],
      "metadata": {
        "id": "FnrWIKOtEkXs"
      }
    },
    {
      "cell_type": "code",
      "source": [
        ""
      ],
      "metadata": {
        "id": "sZcn2JrpEp82"
      },
      "execution_count": 5,
      "outputs": []
    },
    {
      "cell_type": "markdown",
      "source": [
        "### Let, x=4.0"
      ],
      "metadata": {
        "id": "otTrxLX6DG-C"
      }
    },
    {
      "cell_type": "code",
      "source": [
        "x=4.0\n",
        "y=f(x)\n",
        "print(x,y)"
      ],
      "metadata": {
        "colab": {
          "base_uri": "https://localhost:8080/"
        },
        "id": "_J80jJ6U_25n",
        "outputId": "eb62de34-8c13-4999-ed61-3f07ae92ce5c"
      },
      "execution_count": 6,
      "outputs": [
        {
          "output_type": "stream",
          "name": "stdout",
          "text": [
            "4.0 6.0\n"
          ]
        }
      ]
    },
    {
      "cell_type": "code",
      "source": [
        "plt.scatter(x,y, c='red')\n",
        "plt.plot(x0,y0)"
      ],
      "metadata": {
        "colab": {
          "base_uri": "https://localhost:8080/",
          "height": 283
        },
        "id": "juOI4dtEAU24",
        "outputId": "96b1f362-7e69-4bdf-b51b-7fecbbebde14"
      },
      "execution_count": 7,
      "outputs": [
        {
          "output_type": "execute_result",
          "data": {
            "text/plain": [
              "[<matplotlib.lines.Line2D at 0x7fba47f31650>]"
            ]
          },
          "metadata": {},
          "execution_count": 7
        },
        {
          "output_type": "display_data",
          "data": {
            "image/png": "[encoded data removed]",
            "text/plain": [
              "<Figure size 432x288 with 1 Axes>"
            ]
          },
          "metadata": {
            "needs_background": "light"
          }
        }
      ]
    },
    {
      "cell_type": "markdown",
      "source": [
        "### Question: gradient at x=4, positive or negative? Which side of x has optima?"
      ],
      "metadata": {
        "id": "sHyPLyQ9DwaM"
      }
    },
    {
      "cell_type": "code",
      "source": [
        "# calculate, dx.\n",
        "x=4\n",
        "dx=2*x-4\n",
        "print('gradient:', dx)"
      ],
      "metadata": {
        "colab": {
          "base_uri": "https://localhost:8080/"
        },
        "id": "0reJMNDfDgvc",
        "outputId": "8cc53f81-6e2c-4f0a-c858-0e91a6cbcf4f"
      },
      "execution_count": 8,
      "outputs": [
        {
          "output_type": "stream",
          "name": "stdout",
          "text": [
            "gradient: 4\n"
          ]
        }
      ]
    },
    {
      "cell_type": "code",
      "source": [
        ""
      ],
      "metadata": {
        "id": "rytPgvnXDqI4"
      },
      "execution_count": 8,
      "outputs": []
    },
    {
      "cell_type": "code",
      "source": [
        ""
      ],
      "metadata": {
        "id": "6qufJBSpDqPO"
      },
      "execution_count": 8,
      "outputs": []
    },
    {
      "cell_type": "markdown",
      "source": [
        "### Let, x=-4.0"
      ],
      "metadata": {
        "id": "x5WuhkKvEH7I"
      }
    },
    {
      "cell_type": "code",
      "source": [
        "x=-4.0\n",
        "y=f(x)\n",
        "print(x,y)"
      ],
      "metadata": {
        "colab": {
          "base_uri": "https://localhost:8080/"
        },
        "id": "pZf7uhIlDqas",
        "outputId": "ee1beab0-d1bf-4f1b-9ce1-2fb414300126"
      },
      "execution_count": 9,
      "outputs": [
        {
          "output_type": "stream",
          "name": "stdout",
          "text": [
            "-4.0 38.0\n"
          ]
        }
      ]
    },
    {
      "cell_type": "code",
      "source": [
        "plt.scatter(x,y, c='red')\n",
        "plt.plot(x0,y0)"
      ],
      "metadata": {
        "colab": {
          "base_uri": "https://localhost:8080/",
          "height": 283
        },
        "id": "IsZfJ8vrDgyY",
        "outputId": "3f7dce9e-7f3a-448c-e283-0c0409bd9b75"
      },
      "execution_count": 10,
      "outputs": [
        {
          "output_type": "execute_result",
          "data": {
            "text/plain": [
              "[<matplotlib.lines.Line2D at 0x7fba47eaee90>]"
            ]
          },
          "metadata": {},
          "execution_count": 10
        },
        {
          "output_type": "display_data",
          "data": {
            "image/png": "[encoded data removed]",
            "text/plain": [
              "<Figure size 432x288 with 1 Axes>"
            ]
          },
          "metadata": {
            "needs_background": "light"
          }
        }
      ]
    },
    {
      "cell_type": "markdown",
      "source": [
        "### Question: gradient at x=-4, positive or negative? Which side of x has optima?"
      ],
      "metadata": {
        "id": "z1PO4-GiEeQV"
      }
    },
    {
      "cell_type": "code",
      "source": [
        "x=-4\n",
        "dx=2*x-4\n",
        "print('gradient:', dx)"
      ],
      "metadata": {
        "colab": {
          "base_uri": "https://localhost:8080/"
        },
        "id": "MmXQ6vYzAU5z",
        "outputId": "97586fe3-2c0e-402e-f17a-1e8673190954"
      },
      "execution_count": 11,
      "outputs": [
        {
          "output_type": "stream",
          "name": "stdout",
          "text": [
            "gradient: -12\n"
          ]
        }
      ]
    },
    {
      "cell_type": "code",
      "source": [
        "x=-2\n",
        "dx=2*x-4\n",
        "print('gradient:', dx)"
      ],
      "metadata": {
        "colab": {
          "base_uri": "https://localhost:8080/"
        },
        "id": "k_3dFx1GEOZj",
        "outputId": "a98b152a-2cb1-453a-cf9d-cea721f9b476"
      },
      "execution_count": 12,
      "outputs": [
        {
          "output_type": "stream",
          "name": "stdout",
          "text": [
            "gradient: -8\n"
          ]
        }
      ]
    },
    {
      "cell_type": "code",
      "source": [
        ""
      ],
      "metadata": {
        "id": "5fuE38yQEyQb"
      },
      "execution_count": 12,
      "outputs": []
    },
    {
      "cell_type": "markdown",
      "source": [
        "### So, gradient tells us\n",
        "* minima can be found in the opposite direction.\n",
        "* gradients gives a relative measurement of how far the minima could be.\n",
        "\n",
        "* so we can update x to find the minima."
      ],
      "metadata": {
        "id": "3CC5pFGrEzmZ"
      }
    },
    {
      "cell_type": "code",
      "source": [
        ""
      ],
      "metadata": {
        "id": "bjlC3QFCEOcq"
      },
      "execution_count": 12,
      "outputs": []
    },
    {
      "cell_type": "markdown",
      "source": [
        "### So, Gradient Descent algorithm"
      ],
      "metadata": {
        "id": "YH-AoxauOviM"
      }
    },
    {
      "cell_type": "code",
      "source": [
        "# learning_rate=0.1\n",
        "# 1. choose randome value for x\n",
        "# 2. calculate dx\n",
        "# 3. update x using following equation\n",
        "# 4. x = x - learning_rate*dx"
      ],
      "metadata": {
        "id": "YOKu-x-oOuhC"
      },
      "execution_count": 13,
      "outputs": []
    },
    {
      "cell_type": "code",
      "source": [
        "x=-4\n",
        "dx=-12\n",
        "learning_rate=0.1\n",
        "x=x-learning_rate*dx\n",
        "print('new x:', x)"
      ],
      "metadata": {
        "colab": {
          "base_uri": "https://localhost:8080/"
        },
        "id": "Fv_RIvUPOukG",
        "outputId": "07dda879-a39d-439f-824c-997200cbd632"
      },
      "execution_count": 14,
      "outputs": [
        {
          "output_type": "stream",
          "name": "stdout",
          "text": [
            "new x: -2.8\n"
          ]
        }
      ]
    },
    {
      "cell_type": "code",
      "source": [
        ""
      ],
      "metadata": {
        "id": "0BVMh5uAOum7"
      },
      "execution_count": null,
      "outputs": []
    },
    {
      "cell_type": "markdown",
      "source": [
        "### So, let's write the gradient descent algorithm."
      ],
      "metadata": {
        "id": "HP36quKmFvY0"
      }
    },
    {
      "cell_type": "code",
      "source": [
        "x=0 #a random position. \n",
        "learning_rate=0.1\n",
        "nepoch=100 \n",
        "for i in range(nepoch):\n",
        "    print('i=',i, 'x=',x)\n",
        "    y=f(x)\n",
        "    dx=2*x-4\n",
        "    x=x-learning_rate*dx\n",
        "    \n",
        "\n",
        "print('x=', x)"
      ],
      "metadata": {
        "id": "birPx8j1FJog"
      },
      "execution_count": null,
      "outputs": []
    },
    {
      "cell_type": "code",
      "source": [
        "x"
      ],
      "metadata": {
        "colab": {
          "base_uri": "https://localhost:8080/"
        },
        "id": "MWEtS1iYEOfi",
        "outputId": "81fc9e6b-2a28-4540-f364-d229265ae608"
      },
      "execution_count": 16,
      "outputs": [
        {
          "output_type": "execute_result",
          "data": {
            "text/plain": [
              "1.9999999995925928"
            ]
          },
          "metadata": {},
          "execution_count": 16
        }
      ]
    },
    {
      "cell_type": "code",
      "source": [
        ""
      ],
      "metadata": {
        "id": "VvadcVgHEOig"
      },
      "execution_count": null,
      "outputs": []
    },
    {
      "cell_type": "code",
      "source": [
        ""
      ],
      "metadata": {
        "id": "ACHXuQ6U_7MU"
      },
      "execution_count": null,
      "outputs": []
    },
    {
      "cell_type": "code",
      "source": [
        ""
      ],
      "metadata": {
        "id": "9G7ZvpbgAsdo"
      },
      "execution_count": null,
      "outputs": []
    },
    {
      "cell_type": "markdown",
      "source": [
        "### Tasks\n",
        "1. Find minima using gradient descent for the following\n",
        "2. Try with different learning rate and observe the results.\n",
        "3. Try with various epoch number and observe the results.\n",
        "\n",
        "$$y=5*x + x^2-7x-1$$"
      ],
      "metadata": {
        "id": "hYbDl9ujF2vn"
      }
    },
    {
      "cell_type": "code",
      "source": [
        "def f_mine(x_mine):\n",
        "  return 5*x_mine + x_mine**2 - 7*x_mine - 1"
      ],
      "metadata": {
        "id": "3leYX6CVAsg5"
      },
      "execution_count": 18,
      "outputs": []
    },
    {
      "cell_type": "code",
      "source": [
        "#trying same learning rate & loop number as shown\n",
        "x_mine = 0\n",
        "learning_rate_mine = 0.1\n",
        "nepoch_mine = 100\n",
        "\n",
        "for i in range(nepoch_mine):\n",
        "  y_mine = f_mine(x_mine)\n",
        "  dx_mine = 5 + 2*x_mine - 7\n",
        "  x_mine = x_mine - learning_rate_mine*dx_mine\n",
        "\n",
        "\n",
        "print('x = ', x_mine)"
      ],
      "metadata": {
        "id": "4AUGK7TI_28w",
        "colab": {
          "base_uri": "https://localhost:8080/"
        },
        "outputId": "cd019f61-67d6-4733-a350-45d089dd520d"
      },
      "execution_count": 35,
      "outputs": [
        {
          "output_type": "stream",
          "name": "stdout",
          "text": [
            "x =  0.9999999997962963\n"
          ]
        }
      ]
    },
    {
      "cell_type": "code",
      "source": [
        ""
      ],
      "metadata": {
        "id": "SkcqDlgrbMxR"
      },
      "execution_count": null,
      "outputs": []
    },
    {
      "cell_type": "markdown",
      "source": [
        "## Trying some different learning rate and loop numbers on the algorithm"
      ],
      "metadata": {
        "id": "K8asiUPYbNPx"
      }
    },
    {
      "cell_type": "markdown",
      "source": [
        "#### Conclusion : Lowering the learning rate and highring the epoch gives more optimal result"
      ],
      "metadata": {
        "id": "prcbw4sobdZq"
      }
    },
    {
      "cell_type": "code",
      "source": [
        "#trying lower learning rate to achieve more optimal result\n",
        "x_mine = 0\n",
        "learning_rate_mine = 0.001\n",
        "nepoch_mine = 100\n",
        "\n",
        "for i in range(nepoch_mine):\n",
        "  y_mine = f_mine(x_mine)\n",
        "  dx_mine = 5 + 2*x_mine - 7\n",
        "  x_mine = x_mine - learning_rate_mine*dx_mine\n",
        "\n",
        "\n",
        "print('x = ', x_mine)"
      ],
      "metadata": {
        "id": "ps_ZlbRKIMMv",
        "colab": {
          "base_uri": "https://localhost:8080/"
        },
        "outputId": "9fc60018-eb16-4604-e4c1-99b50dda9f2a"
      },
      "execution_count": 44,
      "outputs": [
        {
          "output_type": "stream",
          "name": "stdout",
          "text": [
            "x =  0.1814331953115722\n"
          ]
        }
      ]
    },
    {
      "cell_type": "code",
      "source": [
        "#trying higher number of loops to achieve more optimal result\n",
        "x_mine = 0\n",
        "learning_rate_mine = 0.1\n",
        "nepoch_mine = 10000\n",
        "\n",
        "for i in range(nepoch_mine):\n",
        "  y_mine = f_mine(x_mine)\n",
        "  dx_mine = 5 + 2*x_mine - 7\n",
        "  x_mine = x_mine - learning_rate_mine*dx_mine\n",
        "\n",
        "\n",
        "print('x = ', x_mine)"
      ],
      "metadata": {
        "id": "x2n5H5T7IgIt",
        "colab": {
          "base_uri": "https://localhost:8080/"
        },
        "outputId": "1d0fb853-0ae5-4564-af17-4a3134067219"
      },
      "execution_count": 42,
      "outputs": [
        {
          "output_type": "stream",
          "name": "stdout",
          "text": [
            "x =  0.9999999999999998\n"
          ]
        }
      ]
    },
    {
      "cell_type": "code",
      "source": [
        "#Lowering the rate of learning & highering the number of loops to find even more optimal result\n",
        "x_mine = 0\n",
        "learning_rate_mine = 0.0001\n",
        "nepoch_mine = 100000\n",
        "\n",
        "for i in range(nepoch_mine):\n",
        "  y_mine = f_mine(x_mine)\n",
        "  dx_mine = 5 + 2*x_mine - 7\n",
        "  x_mine = x_mine - learning_rate_mine*dx_mine\n",
        "\n",
        "\n",
        "print('x = ', x_mine)"
      ],
      "metadata": {
        "id": "SGYqcUFFIgQf",
        "colab": {
          "base_uri": "https://localhost:8080/"
        },
        "outputId": "57d6e039-d3f3-45f0-c702-8e862c7bfa2b"
      },
      "execution_count": 49,
      "outputs": [
        {
          "output_type": "stream",
          "name": "stdout",
          "text": [
            "x =  0.9999999979429641\n"
          ]
        }
      ]
    },
    {
      "cell_type": "code",
      "source": [
        "#Trying some more random parameters\n",
        "x_mine = -6\n",
        "learning_rate_mine = 0.1\n",
        "nepoch_mine = 100\n",
        "\n",
        "for i in range(nepoch_mine):\n",
        "  y_mine = f_mine(x_mine)\n",
        "  dx_mine = 5 + 2*x_mine - 7\n",
        "  x_mine = x_mine - learning_rate_mine*dx_mine\n",
        "\n",
        "\n",
        "print('x = ', x_mine)"
      ],
      "metadata": {
        "colab": {
          "base_uri": "https://localhost:8080/"
        },
        "id": "FxVTxT8Iddl2",
        "outputId": "638fd9b1-2d0d-4aa9-83d2-9fd9e9f70759"
      },
      "execution_count": 71,
      "outputs": [
        {
          "output_type": "stream",
          "name": "stdout",
          "text": [
            "x =  0.9999999985740747\n"
          ]
        }
      ]
    }
  ]
}