{
 "cells": [
  {
   "cell_type": "code",
   "execution_count": 1,
   "id": "9f7a38be",
   "metadata": {},
   "outputs": [],
   "source": [
    "#import necessary libraries\n",
    "import pandas as pd\n",
    "import numpy as np\n",
    "import math\n",
    "import operator\n",
    "import matplotlib.pyplot as plt\n",
    "%matplotlib inline"
   ]
  },
  {
   "cell_type": "code",
   "execution_count": 2,
   "id": "2468a79e",
   "metadata": {},
   "outputs": [
    {
     "name": "stdout",
     "output_type": "stream",
     "text": [
      "   Gender  Age Range  Head Size(cm^3)  Brain Weight(grams)\n",
      "0       1          1             4512                 1530\n",
      "1       1          1             3738                 1297\n",
      "2       1          1             4261                 1335\n",
      "3       1          1             3777                 1282\n",
      "4       1          1             4177                 1590\n"
     ]
    }
   ],
   "source": [
    "data = pd.read_csv (r'headbrain.csv')\n",
    "print(data.head())"
   ]
  },
  {
   "cell_type": "code",
   "execution_count": 3,
   "id": "225b8645",
   "metadata": {},
   "outputs": [],
   "source": [
    "# collecting x & y\n",
    "X = data['Head Size(cm^3)'].values\n",
    "Y = data['Brain Weight(grams)'].values\n",
    "\n",
    "# calculate mean of x & y using an inbuilt numpy method mean()\n",
    "mean_x = np.mean(X)\n",
    "mean_y = np.mean(Y)"
   ]
  },
  {
   "cell_type": "code",
   "execution_count": 4,
   "id": "0a568eb8",
   "metadata": {},
   "outputs": [
    {
     "name": "stdout",
     "output_type": "stream",
     "text": [
      "m = 0.26342933948939945 \n",
      "c = 325.57342104944223\n"
     ]
    }
   ],
   "source": [
    "# total no.of input values\n",
    "m = len(X)\n",
    "\n",
    "# using the formula to calculate m & c\n",
    "numer = 0\n",
    "denom = 0\n",
    "for i in range(m):\n",
    "  numer += (X[i] - mean_x) * (Y[i] - mean_y)\n",
    "  denom += (X[i] - mean_x) ** 2\n",
    "m = numer / denom\n",
    "c = mean_y - (m * mean_x)\n",
    "\n",
    "print (f'm = {m} \\nc = {c}')"
   ]
  },
  {
   "cell_type": "code",
   "execution_count": 5,
   "id": "6ad464d2",
   "metadata": {},
   "outputs": [
    {
     "data": {
      "image/png": "[encoded data removed]",
      "text/plain": [
       "<Figure size 432x288 with 1 Axes>"
      ]
     },
     "metadata": {
      "needs_background": "light"
     },
     "output_type": "display_data"
    }
   ],
   "source": [
    "# plotting values and regression line\n",
    "max_x = np.max(X) + 100\n",
    "min_x = np.min(Y) - 100\n",
    "\n",
    "# calculating line values x and y\n",
    "x = np.linspace (min_x, max_x, 100)\n",
    "y = c + m * x\n",
    "\n",
    "plt.plot(x, y, color='blue', label='Regression Line')\n",
    "plt.scatter(X, Y, c='red', label='data points')\n",
    "\n",
    "plt.xlabel('Head Size in cm')\n",
    "plt.ylabel('Brain Weight in grams')\n",
    "plt.legend()\n",
    "plt.show()"
   ]
  },
  {
   "cell_type": "code",
   "execution_count": 6,
   "id": "dd7dfe36",
   "metadata": {},
   "outputs": [
    {
     "name": "stdout",
     "output_type": "stream",
     "text": [
      "0.6393117199570003\n"
     ]
    }
   ],
   "source": [
    "# calculating R-squared value for measuring goodness of our model. \n",
    "\n",
    "ss_t = 0 #total sum of squares\n",
    "ss_r = 0 #total sum of square of residuals\n",
    "\n",
    "for i in range(int(len(data))): # val_count represents the no.of input x values\n",
    "  y_pred = c + m * X[i]\n",
    "  ss_t += (Y[i] - mean_y) ** 2\n",
    "  ss_r += (Y[i] - y_pred) ** 2\n",
    "r2 = 1 - (ss_r/ss_t)\n",
    "\n",
    "print(r2)"
   ]
  },
  {
   "cell_type": "code",
   "execution_count": null,
   "id": "3fc304b7",
   "metadata": {},
   "outputs": [],
   "source": []
  },
  {
   "cell_type": "code",
   "execution_count": null,
   "id": "e37eb463",
   "metadata": {},
   "outputs": [],
   "source": []
  },
  {
   "cell_type": "code",
   "execution_count": null,
   "id": "bc05d962",
   "metadata": {},
   "outputs": [],
   "source": []
  }
 ],
 "metadata": {
  "kernelspec": {
   "display_name": "Python 3",
   "language": "python",
   "name": "python3"
  },
  "language_info": {
   "codemirror_mode": {
    "name": "ipython",
    "version": 3
   },
   "file_extension": ".py",
   "mimetype": "text/x-python",
   "name": "python",
   "nbconvert_exporter": "python",
   "pygments_lexer": "ipython3",
   "version": "3.8.8"
  }
 },
 "nbformat": 4,
 "nbformat_minor": 5
}
